{
 "cells": [
  {
   "cell_type": "markdown",
   "metadata": {},
   "source": [
    "# Demo for Anomaly Detection on the SKAB dataset using Randomized Signature as Features"
   ]
  },
  {
   "cell_type": "code",
   "execution_count": 5,
   "metadata": {},
   "outputs": [],
   "source": [
    "import pandas as pd\n",
    "import numpy as np\n",
    "import matplotlib.pyplot as plt\n",
    "from datetime import datetime\n",
    "import sys\n",
    "sys.path.append('../PenDigits/')\n",
    "from RandomSignature import *\n",
    "from sklearn.ensemble import IsolationForest\n",
    "from sklearn.svm import OneClassSVM\n",
    "from tsad.evaluating.evaluating import evaluating\n",
    "import os\n",
    "from tqdm.auto import tqdm\n",
    "import utils\n",
    "import sklearn"
   ]
  },
  {
   "cell_type": "markdown",
   "metadata": {},
   "source": [
    "## Load and visualize the data "
   ]
  },
  {
   "cell_type": "code",
   "execution_count": 2,
   "metadata": {},
   "outputs": [
    {
     "name": "stdout",
     "output_type": "stream",
     "text": [
      "              datetime  Accelerometer1RMS  Accelerometer2RMS   Current  \\\n",
      "0  2020-03-09 16:16:30           0.027545           0.041127  0.673506   \n",
      "1  2020-03-09 16:16:31           0.027997           0.039100  0.772264   \n",
      "2  2020-03-09 16:16:32           0.028418           0.038872  0.675520   \n",
      "3  2020-03-09 16:16:33           0.027625           0.039366  0.566279   \n",
      "4  2020-03-09 16:16:34           0.027484           0.041854  1.292170   \n",
      "\n",
      "   Pressure  Temperature  Thermocouple  Voltage  Volume Flow RateRMS  anomaly  \\\n",
      "0  0.054711      67.8345       24.3164  240.513                 32.0      0.0   \n",
      "1  0.054711      67.8704       24.3279  229.523                 32.0      0.0   \n",
      "2  0.054711      67.7882       24.3261  242.708                 32.0      0.0   \n",
      "3 -0.273216      67.7918       24.3323  229.709                 32.0      0.0   \n",
      "4  0.054711      67.7368       24.3250  242.746                 32.0      0.0   \n",
      "\n",
      "   changepoint  \n",
      "0          0.0  \n",
      "1          0.0  \n",
      "2          0.0  \n",
      "3          0.0  \n",
      "4          0.0  \n"
     ]
    },
    {
     "data": {
      "text/plain": [
       "[<matplotlib.lines.Line2D at 0x7f30a49f6790>]"
      ]
     },
     "execution_count": 2,
     "metadata": {},
     "output_type": "execute_result"
    },
    {
     "data": {
      "image/png": "[encoded data removed]",
      "text/plain": [
       "<Figure size 432x288 with 1 Axes>"
      ]
     },
     "metadata": {
      "needs_background": "light"
     },
     "output_type": "display_data"
    }
   ],
   "source": [
    "## read the data\n",
    "list_of_df, anomaly_free = utils.read_SKAB(anomaly_free = True)\n",
    "\n",
    "## inspect data\n",
    "print(list_of_df[0].head())\n",
    "cols = list_of_df[0].columns\n",
    "#plot different columns of the dataset\n",
    "plt.plot(list_of_df[0][cols[1]])\n",
    "\n",
    "\n",
    "\n"
   ]
  },
  {
   "cell_type": "markdown",
   "metadata": {},
   "source": [
    "## Set hyperparameters"
   ]
  },
  {
   "cell_type": "code",
   "execution_count": 3,
   "metadata": {},
   "outputs": [],
   "source": [
    "## hyperparameters for the randomized signature and the model\n",
    "def identity(x):\n",
    "    return x\n",
    "def sigmoid(x):\n",
    "    return 1/(1+np.exp(-x))\n",
    "\n",
    "hyperparams_dict = {\n",
    "'varA':1e-5,\n",
    "'mean':0,\n",
    "'res_size':100,\n",
    "'activation': identity\n",
    "}\n",
    "\n",
    "len_sub = 10\n",
    "dim_paths = 8\n",
    "\n",
    "[As,bs] = get_random_coeff(dim_paths,hyperparams_dict)\n",
    "\n",
    "\n",
    "clf = IsolationForest(contamination = 0.1)\n",
    "#clf = OneClassSVM(nu = 0.05)"
   ]
  },
  {
   "cell_type": "markdown",
   "metadata": {},
   "source": [
    "## Train the model on the different datasets and compute predictions"
   ]
  },
  {
   "cell_type": "code",
   "execution_count": 6,
   "metadata": {},
   "outputs": [
    {
     "data": {
      "application/vnd.jupyter.widget-view+json": {
       "model_id": "4bb6f2c912084ef58daf61b6f7ce2068",
       "version_major": 2,
       "version_minor": 0
      },
      "text/plain": [
       "HBox(children=(FloatProgress(value=0.0, max=34.0), HTML(value='')))"
      ]
     },
     "metadata": {},
     "output_type": "display_data"
    },
    {
     "name": "stdout",
     "output_type": "stream",
     "text": [
      "\n"
     ]
    }
   ],
   "source": [
    "\n",
    "anomalies = []\n",
    "predictions = []\n",
    "\n",
    "\n",
    "for df_test in tqdm(list_of_df):\n",
    "        \n",
    "    #save values for anomaly and changepoints\n",
    "    anomalies_temp = df_test['anomaly'].to_list()#[400:]\n",
    "    anomalies = anomalies + anomalies_temp\n",
    "\n",
    "    \n",
    "    df_test = df_test.drop(columns = ['datetime','anomaly','changepoint'])\n",
    "    path = df_test.to_numpy()\n",
    "    \n",
    "    ## scaling (pre)\n",
    "    path = sklearn.preprocessing.MinMaxScaler().fit_transform(path)\n",
    "    \n",
    "\n",
    "    #split in train and test and prepare the subsequences\n",
    "    path_train = path[:400,:]\n",
    "    path_test = path[400:,:]\n",
    "    \n",
    "    \n",
    "    ## split into sub-series\n",
    "    path_train = [path_train[len_sub*i:len_sub*(i+1),:] for i in range(int(path_train.shape[0]/len_sub+1))]\n",
    "    #if the 400 or the time series is an exact multiple of len_sub then the last element in paths_train is [] \n",
    "    if len(path_train[-1])==0:\n",
    "        path_train.pop()\n",
    "    path_test = [path_test[len_sub*i:len_sub*(i+1),:] for i in range(int(path_test.shape[0]/len_sub+1))]\n",
    "    if len(path_test[-1])==0:\n",
    "        path_test.pop()   \n",
    "    \n",
    "    ## augmentations\n",
    "    # basepoint\n",
    "    path_train = [np.vstack((np.zeros_like(path[0,:]),path)) for path in path_train]\n",
    "    path_test = [np.vstack((np.zeros_like(path[0,:]),path)) for path in path_test]\n",
    "    \n",
    "    ## scaling (post)\n",
    "    #path_train = [sklearn.preprocessing.MinMaxScaler().fit_transform(path) for path in path_train]\n",
    "    #path_test = [sklearn.preprocessing.MinMaxScaler().fit_transform(path) for path in path_test]\n",
    "\n",
    "    \n",
    "    ## compute the signature for train and test paths\n",
    "    Sigs_train = [compute_signature(As,bs,path_train[i],False,hyperparams_dict) \n",
    "                     for i in range(len(path_train))]\n",
    "    Sigs_test = [compute_signature(As,bs,path_test[i],False,hyperparams_dict) \n",
    "                     for i in range(len(path_test))]\n",
    "    \n",
    "    path = path_train+path_test\n",
    "    Sigs = np.array(Sigs_train+Sigs_test)\n",
    "    Sigs_train = np.array(Sigs_train)\n",
    "    Sigs_test = np.array(Sigs_test)\n",
    "\n",
    "    ## fit the model\n",
    "    clf.fit(Sigs_train)\n",
    "    \n",
    "    # compute the predictions for each point\n",
    "    pred_anomalies = []\n",
    "    for i in range(Sigs.shape[0]):\n",
    "        ## in np.ones() the -1 is needed because with the base point augmentation\n",
    "        ## we make the sub-series one observation longer\n",
    "        pred_anomalies = pred_anomalies + (-0.5*(clf.predict(Sigs)[i]-np.ones(path[i].shape[0]-1))).tolist()\n",
    "    predictions = predictions + pred_anomalies\n"
   ]
  },
  {
   "cell_type": "markdown",
   "metadata": {},
   "source": [
    "## Evaluate"
   ]
  },
  {
   "cell_type": "code",
   "execution_count": 7,
   "metadata": {},
   "outputs": [
    {
     "name": "stdout",
     "output_type": "stream",
     "text": [
      "0.5219518475601905 0.17066655708062792 0.5346292186423816\n"
     ]
    }
   ],
   "source": [
    "FAR = (np.array(predictions)[np.array(anomalies) == 0] != np.array(anomalies)[np.array(anomalies) == 0]).sum()/np.array(anomalies)[np.array(anomalies) == 0].shape[0]\n",
    "MAR = (np.array(predictions)[np.array(anomalies) == 1] != np.array(anomalies)[np.array(anomalies) == 1]).sum()/np.array(anomalies)[np.array(anomalies) == 1].shape[0]\n",
    "F1 = sklearn.metrics.f1_score(anomalies,predictions)\n",
    "print(F1,FAR,MAR)"
   ]
  },
  {
   "cell_type": "markdown",
   "metadata": {},
   "source": [
    "## Evaluate on the anomaly-free run"
   ]
  },
  {
   "cell_type": "code",
   "execution_count": 8,
   "metadata": {},
   "outputs": [
    {
     "name": "stdout",
     "output_type": "stream",
     "text": [
      "False Alarm Rate on the normal run:  0.4130781499202552\n",
      "False Alarm Rate on the first 1000 observations of the normal run:  0.12\n"
     ]
    },
    {
     "data": {
      "text/plain": [
       "<Figure size 432x288 with 0 Axes>"
      ]
     },
     "execution_count": 8,
     "metadata": {},
     "output_type": "execute_result"
    },
    {
     "data": {
      "image/png": "[encoded data removed]",
      "text/plain": [
       "<Figure size 432x288 with 1 Axes>"
      ]
     },
     "metadata": {
      "needs_background": "light"
     },
     "output_type": "display_data"
    },
    {
     "data": {
      "text/plain": [
       "<Figure size 432x288 with 0 Axes>"
      ]
     },
     "metadata": {},
     "output_type": "display_data"
    }
   ],
   "source": [
    "## test on the normal run\n",
    "anomaly_free = sklearn.preprocessing.MinMaxScaler().fit_transform(anomaly_free)\n",
    "\n",
    "#split in train and test\n",
    "path_train = anomaly_free[:400,:]\n",
    "path_test = anomaly_free[400:,:]\n",
    "\n",
    "## splitting\n",
    "path_train = [path_train[len_sub*i:len_sub*(i+1),:] for i in range(int(path_train.shape[0]/len_sub+1))]\n",
    "#if the time series is an exact multiple of len_sub then the last element in paths_train is [] \n",
    "if len(path_train[-1])==0:\n",
    "    path_train.pop()\n",
    "path_test = [path_test[len_sub*i:len_sub*(i+1),:] for i in range(int(path_test.shape[0]/len_sub+1))]\n",
    "if len(path_test[-1])==0:\n",
    "    path_test.pop()    \n",
    "\n",
    "## scaling\n",
    "#path_train = [sklearn.preprocessing.MinMaxScaler().fit_transform(path) for path in path_train]    \n",
    "#path_test = [sklearn.preprocessing.MinMaxScaler().fit_transform(path) for path in path_test]\n",
    "\n",
    "## augmentations\n",
    "# basepoint\n",
    "path_train = [np.vstack((np.zeros_like(path[0,:]),path)) for path in path_train]\n",
    "path_test = [np.vstack((np.zeros_like(path[0,:]),path)) for path in path_test]\n",
    "    \n",
    "\n",
    "Sigs_train = [compute_signature(As,bs,path_train[i],False,hyperparams_dict) \n",
    "                 for i in range(len(path_train))]\n",
    "Sigs_test = [compute_signature(As,bs,path_test[i],False,hyperparams_dict) \n",
    "                 for i in range(len(path_test))]\n",
    "\n",
    "path = path_train+path_test\n",
    "Sigs = np.array(Sigs_train+Sigs_test)\n",
    "Sigs_train = np.array(Sigs_train)\n",
    "Sigs_test = np.array(Sigs_test)\n",
    "\n",
    "\n",
    "clf.fit(Sigs_train)\n",
    "pred = []\n",
    "for i in range(Sigs.shape[0]):\n",
    "        pred = pred + (-0.5*(clf.predict(Sigs)[i]-np.ones(path[i].shape[0]-1))).tolist()\n",
    "\n",
    "print('False Alarm Rate on the normal run: ', sum(pred)/len(pred))\n",
    "print('False Alarm Rate on the first 1000 observations of the normal run: ', sum(pred[:1000])/1000)\n",
    "\n",
    "## Plot the anomalies predicted results \n",
    "plt.plot(pred[:1000],marker = 'o',label = 'predictions')\n",
    "plt.legend()\n",
    "plt.title('Result Anomaly-free')\n",
    "plt.figure()"
   ]
  },
  {
   "cell_type": "code",
   "execution_count": null,
   "metadata": {},
   "outputs": [],
   "source": []
  },
  {
   "cell_type": "code",
   "execution_count": null,
   "metadata": {},
   "outputs": [],
   "source": []
  }
 ],
 "metadata": {
  "kernelspec": {
   "display_name": "Python 3",
   "language": "python",
   "name": "python3"
  },
  "language_info": {
   "codemirror_mode": {
    "name": "ipython",
    "version": 3
   },
   "file_extension": ".py",
   "mimetype": "text/x-python",
   "name": "python",
   "nbconvert_exporter": "python",
   "pygments_lexer": "ipython3",
   "version": "3.7.9"
  }
 },
 "nbformat": 4,
 "nbformat_minor": 4
}
