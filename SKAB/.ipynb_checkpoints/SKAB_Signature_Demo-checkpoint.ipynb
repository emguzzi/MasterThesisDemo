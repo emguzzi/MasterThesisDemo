{
 "cells": [
  {
   "cell_type": "code",
   "execution_count": 1,
   "metadata": {},
   "outputs": [],
   "source": [
    "import pandas as pd\n",
    "import numpy as np\n",
    "import matplotlib.pyplot as plt\n",
    "from datetime import datetime\n",
    "import sys\n",
    "sys.path.append('../PenDigitsRanSig/')\n",
    "from RandomSignature import *\n",
    "from sklearn.ensemble import IsolationForest\n",
    "from sklearn.svm import OneClassSVM\n",
    "from tsad.evaluating.evaluating import evaluating\n",
    "import os\n",
    "from tqdm.auto import tqdm\n"
   ]
  },
  {
   "cell_type": "code",
   "execution_count": 3,
   "metadata": {},
   "outputs": [],
   "source": [
    "## hyperparameters\n",
    "\n",
    "def identity(x):\n",
    "    return x\n",
    "def sigmoid(x):\n",
    "    return 1/(1+np.exp(-x))\n",
    "\n",
    "hyperparams_dict = {\n",
    "'varA':0.1,\n",
    "'mean':0,\n",
    "'res_size':100,\n",
    "'activation': sigmoid\n",
    "}\n",
    "\n",
    "len_sub = 3\n",
    "dim_paths = 8\n",
    "\n",
    "[As,bs] = get_random_coeff(dim_paths,hyperparams_dict)\n"
   ]
  },
  {
   "cell_type": "code",
   "execution_count": 4,
   "metadata": {},
   "outputs": [
    {
     "data": {
      "application/vnd.jupyter.widget-view+json": {
       "model_id": "d9a7bff3011942b58cc8be441385484e",
       "version_major": 2,
       "version_minor": 0
      },
      "text/plain": [
       "HBox(children=(FloatProgress(value=0.0, max=34.0), HTML(value='')))"
      ]
     },
     "metadata": {},
     "output_type": "display_data"
    },
    {
     "name": "stdout",
     "output_type": "stream",
     "text": [
      "\n"
     ]
    }
   ],
   "source": [
    "## test the model \n",
    "## read the data\n",
    "list_of_df = util.read_SKAB(anomaly_free = False)\n",
    "\n",
    "\n",
    "anomalies = []\n",
    "changepoints = []\n",
    "time_list = []\n",
    "predictions = []\n",
    "Sigs_train_tot = []\n",
    "Sigs_tot = []\n",
    "path_tot = []\n",
    "\n",
    "for df_test in tqdm(list_of_df):\n",
    "    \n",
    "    #values needed to evaluate the performance\n",
    "    \n",
    "    #save values for anomaly and changepoints\n",
    "    anomalies_temp = df_test['anomaly'].to_list()#[400:]\n",
    "    changepoints_temp = df_test['changepoint'].to_list()#[400:]\n",
    "    df_test = df_test.drop(columns = ['anomaly','changepoint'])\n",
    "    anomalies = anomalies + anomalies_temp\n",
    "    changepoints = changepoints + changepoints_temp\n",
    "    \n",
    "    #save values as pd timestamp \n",
    "    time_list_temp = df_test['datetime'].to_list()#[400:]\n",
    "    time_list_temp = [pd.Timestamp(t) for t in time_list_temp]\n",
    "    df_test = df_test.drop(columns = ['datetime'])\n",
    "    time_list = time_list + time_list_temp\n",
    "    \n",
    "    \n",
    "    # final paths\n",
    "    path = df_test.to_numpy()\n",
    "    ## scale before splitting and augmenting\n",
    "    path = sklearn.preprocessing.MinMaxScaler().fit_transform(path)\n",
    "    \n",
    "    #plt.plot(path)\n",
    "    #plt.figure()\n",
    "    #plt.clf()\n",
    "\n",
    "    #split in train and test and prepare the subsequences\n",
    "    path_train = path[:400,:]\n",
    "    path_test = path[400:,:]\n",
    "    \n",
    "    \n",
    "    ## split into sub-series\n",
    "    path_train = [path_train[len_sub*i:len_sub*(i+1),:] for i in range(int(path_train.shape[0]/len_sub+1))]\n",
    "    #if the 400 or the time series is an exact multiple of len_sub then the last element in paths_train is [] \n",
    "    if len(path_train[-1])==0:\n",
    "        path_train.pop()\n",
    "    path_test = [path_test[len_sub*i:len_sub*(i+1),:] for i in range(int(path_test.shape[0]/len_sub+1))]\n",
    "    if len(path_test[-1])==0:\n",
    "        path_test.pop()   \n",
    "    \n",
    "    ## augmentations\n",
    "    # basepoint\n",
    "    path_train = [np.vstack((np.zeros_like(path[0,:]),path)) for path in path_train]\n",
    "    path_test = [np.vstack((np.zeros_like(path[0,:]),path)) for path in path_test]\n",
    "    \n",
    "    ## scaling \n",
    "    ## scaling sub-series wise does not seem to work\n",
    "    ## probably better to scale the entire series before splitting\n",
    "    #path_train = [sklearn.preprocessing.MinMaxScaler().fit_transform(path) for path in path_train]\n",
    "    #path_test = [sklearn.preprocessing.MinMaxScaler().fit_transform(path) for path in path_test]\n",
    "\n",
    "    \n",
    "    ## compute the signature for train and test paths\n",
    "    Sigs_train = [compute_signature(As,bs,path_train[i],False,hyperparams_dict) \n",
    "                     for i in range(len(path_train))]\n",
    "    Sigs_test = [compute_signature(As,bs,path_test[i],False,hyperparams_dict) \n",
    "                     for i in range(len(path_test))]\n",
    "    \n",
    "    path = path_train+path_test\n",
    "    path_tot += path\n",
    "    Sigs_tot += (Sigs_train+Sigs_test)\n",
    "    Sigs = np.array(Sigs_train+Sigs_test)\n",
    "    Sigs_train_tot += Sigs_train\n",
    "    Sigs_train = np.array(Sigs_train)\n",
    "    Sigs_test = np.array(Sigs_test)\n",
    "\n",
    "    ## fit the model\n",
    "    clf = IsolationForest(contamination = 0.1)#contamination = 0.1)\n",
    "    #clf = OneClassSVM(nu = 0.05)\n",
    "    clf.fit(Sigs_train)\n",
    "    \n",
    "    # store results as pd series\n",
    "    pred_anomalies = []\n",
    "    for i in range(Sigs.shape[0]):\n",
    "        ## in np.ones() the -1 is needed because with the base point augmentation\n",
    "        ## we make the sub-series one observation longer\n",
    "        pred_anomalies = pred_anomalies + (-0.5*(clf.predict(Sigs)[i]-np.ones(path[i].shape[0]-1))).tolist()\n",
    "    predictions = predictions + pred_anomalies\n",
    "    \n",
    "    ## Plot the results for each dataset\n",
    "    #plt.plot(pred_anomalies,marker = 'o',label = 'predictions')\n",
    "    #plt.plot(anomalies_temp,label = 'anomalies')\n",
    "    #plt.plot(changepoints_temp,label = 'changepoints')\n",
    "    #plt.legend()\n",
    "    #plt.title('Result')\n",
    "    #plt.figure()\n",
    "\n",
    "#train one single model with the train instance of every time series\n",
    "#Sigs_train_tot = np.array(Sigs_train_tot)\n",
    "#Sigs_tot = np.array(Sigs_tot)\n",
    "#pred_anomalies_tot = []\n",
    "#clf.fit(Sigs_train_tot)\n",
    "#for i in tqdm(range(Sigs_tot.shape[0])):\n",
    "#        ## in np.ones() the -1 is needed because with the base point augmentation\n",
    "#        ## we make the sub-series one observation longer\n",
    "#        pred_anomalies_tot = pred_anomalies_tot + (-0.5*(clf.predict(Sigs_tot)[i]-np.ones(path_tot[i].shape[0]-1))).tolist()\n",
    "#        \n",
    "#predictions_tot = pd.Series(data = pred_anomalies_tot, index = time_list)    \n",
    "#anomalies = pd.Series(data = anomalies, index = time_list)\n",
    "#changepoints = pd.Series(data = changepoints, index = time_list)\n",
    "#predictions = pd.Series(data = predictions, index =  time_list)\n",
    "#anomalies.sort_index(inplace = True)\n",
    "#predictions.sort_index(inplace = True)\n",
    "#changepoints.sort_index(inplace = True)\n",
    "#predictions_tot.sort_index(inplace = True)\n",
    "\n",
    "## False Alaram \n",
    "#print((predictions[anomalies == 0] != anomalies[anomalies == 0]).sum()/anomalies[anomalies == 0].size)\n",
    "## Missing Alarm \n",
    "#print((predictions[anomalies == 1] != anomalies[anomalies == 1]).sum()/anomalies[anomalies == 1].size)\n",
    "## F1 score\n",
    "#sklearn.metrics.f1_score(anomalies,predictions)"
   ]
  },
  {
   "cell_type": "code",
   "execution_count": 30,
   "metadata": {},
   "outputs": [
    {
     "name": "stdout",
     "output_type": "stream",
     "text": [
      "0.652792745921439 0.20789841374208926 0.32784877936787327\n"
     ]
    }
   ],
   "source": [
    "#metrics_anomalies = evaluating(anomalies, predictions, metric = 'binary')\n",
    "FAR = (np.array(predictions)[np.array(anomalies) == 0] != np.array(anomalies)[np.array(anomalies) == 0]).sum()/np.array(anomalies)[np.array(anomalies) == 0].shape[0]\n",
    "MAR = (np.array(predictions)[np.array(anomalies) == 1] != np.array(anomalies)[np.array(anomalies) == 1]).sum()/np.array(anomalies)[np.array(anomalies) == 1].shape[0]\n",
    "F1 = sklearn.metrics.f1_score(anomalies,predictions)\n",
    "print(F1,FAR,MAR)\n",
    "\n",
    "#FAR = (predictions_tot[anomalies == 0] != anomalies[anomalies == 0]).sum()/anomalies[anomalies == 0].size\n",
    "#MAR = (predictions_tot[anomalies == 1] != anomalies[anomalies == 1]).sum()/anomalies[anomalies == 1].size\n",
    "#F1 = sklearn.metrics.f1_score(anomalies,predictions_tot)\n",
    "#print(F1,FAR,MAR)"
   ]
  },
  {
   "cell_type": "code",
   "execution_count": 29,
   "metadata": {},
   "outputs": [
    {
     "data": {
      "text/plain": [
       "24334"
      ]
     },
     "execution_count": 29,
     "metadata": {},
     "output_type": "execute_result"
    }
   ],
   "source": [
    "np.array(predictions)[np.array(anomalies) == 0]\n",
    "np.array(anomalies).shape\n",
    "np.array(anomalies)[np.array(anomalies) == 0].shape\n",
    "np.array(anomalies)[np.array(anomalies) == 0].shape[0]\n"
   ]
  },
  {
   "cell_type": "code",
   "execution_count": 6,
   "metadata": {},
   "outputs": [
    {
     "name": "stdout",
     "output_type": "stream",
     "text": [
      "False Alarm Rate on the normal run:  0.7909622541201489\n",
      "False Alarm Rate on the first 1000 observations of the normal run:  0.117\n"
     ]
    },
    {
     "data": {
      "text/plain": [
       "<Figure size 432x288 with 0 Axes>"
      ]
     },
     "execution_count": 6,
     "metadata": {},
     "output_type": "execute_result"
    },
    {
     "data": {
      "image/png": "[encoded data removed]",
      "text/plain": [
       "<Figure size 432x288 with 1 Axes>"
      ]
     },
     "metadata": {
      "needs_background": "light"
     },
     "output_type": "display_data"
    },
    {
     "data": {
      "text/plain": [
       "<Figure size 432x288 with 0 Axes>"
      ]
     },
     "metadata": {},
     "output_type": "display_data"
    }
   ],
   "source": [
    "## test on the normal run\n",
    "path_anomaly_free = 'data/anomaly-free/anomaly-free.csv'\n",
    "df = pd.read_csv(path_anomaly_free,sep = ';')\n",
    "df = df.drop(columns = ['datetime'])\n",
    "paths_free = df.to_numpy()\n",
    "paths_free = sklearn.preprocessing.MinMaxScaler().fit_transform(paths_free)\n",
    "\n",
    "#split in train and test\n",
    "path_train = paths_free[:400,:]\n",
    "path_test = paths_free[400:,:]\n",
    "\n",
    "## splitting\n",
    "path_train = [path_train[len_sub*i:len_sub*(i+1),:] for i in range(int(path_train.shape[0]/len_sub+1))]\n",
    "#if the time series is an exact multiple of len_sub then the last element in paths_train is [] \n",
    "if len(path_train[-1])==0:\n",
    "    path_train.pop()\n",
    "path_test = [path_test[len_sub*i:len_sub*(i+1),:] for i in range(int(path_test.shape[0]/len_sub+1))]\n",
    "if len(path_test[-1])==0:\n",
    "    path_test.pop()    \n",
    "\n",
    "## scaling\n",
    "#path_train = [sklearn.preprocessing.MinMaxScaler().fit_transform(path) for path in path_train]    \n",
    "#path_test = [sklearn.preprocessing.MinMaxScaler().fit_transform(path) for path in path_test]\n",
    "\n",
    "## augmentations\n",
    "# basepoint\n",
    "path_train = [np.vstack((np.zeros_like(path[0,:]),path)) for path in path_train]\n",
    "path_test = [np.vstack((np.zeros_like(path[0,:]),path)) for path in path_test]\n",
    "    \n",
    "\n",
    "Sigs_train = [compute_signature(As,bs,path_train[i],False,hyperparams_dict) \n",
    "                 for i in range(len(path_train))]\n",
    "Sigs_test = [compute_signature(As,bs,path_test[i],False,hyperparams_dict) \n",
    "                 for i in range(len(path_test))]\n",
    "\n",
    "path = path_train+path_test\n",
    "Sigs = np.array(Sigs_train+Sigs_test)\n",
    "Sigs_train = np.array(Sigs_train)\n",
    "Sigs_test = np.array(Sigs_test)\n",
    "\n",
    "clf = IsolationForest(contamination = 0.1)\n",
    "#clf = OneClassSVM(nu = 0.1)\n",
    "clf.fit(Sigs_train)\n",
    "pred = []\n",
    "for i in range(Sigs.shape[0]):\n",
    "        pred = pred + (-0.5*(clf.predict(Sigs)[i]-np.ones(path[i].shape[0]-1))).tolist()\n",
    "\n",
    "#print('Performance on the test set (F1,FAR%,MAR%)', metrics_anomalies)\n",
    "print('False Alarm Rate on the normal run: ', sum(pred)/len(pred))\n",
    "print('False Alarm Rate on the first 1000 observations of the normal run: ', sum(pred[:1000])/1000)\n",
    "\n",
    "## Plot the results for each dataset\n",
    "plt.plot(pred[:1000],marker = 'o',label = 'predictions')\n",
    "plt.legend()\n",
    "plt.title('Result Anomaly-free')\n",
    "plt.figure()"
   ]
  },
  {
   "cell_type": "code",
   "execution_count": null,
   "metadata": {},
   "outputs": [],
   "source": []
  },
  {
   "cell_type": "code",
   "execution_count": null,
   "metadata": {},
   "outputs": [],
   "source": []
  }
 ],
 "metadata": {
  "kernelspec": {
   "display_name": "Python 3",
   "language": "python",
   "name": "python3"
  },
  "language_info": {
   "codemirror_mode": {
    "name": "ipython",
    "version": 3
   },
   "file_extension": ".py",
   "mimetype": "text/x-python",
   "name": "python",
   "nbconvert_exporter": "python",
   "pygments_lexer": "ipython3",
   "version": "3.7.9"
  }
 },
 "nbformat": 4,
 "nbformat_minor": 4
}
