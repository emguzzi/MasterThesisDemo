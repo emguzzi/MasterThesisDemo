{
  "cells": [
    {
      "cell_type": "markdown",
      "metadata": {
        "id": "view-in-github",
        "colab_type": "text"
      },
      "source": [
        "<a href=\"https://colab.research.google.com/github/emguzzi/MasterThesisDemo/blob/main/SpeechCommands/TruncatedSignatureTest.ipynb\" target=\"_parent\"><img src=\"https://colab.research.google.com/assets/colab-badge.svg\" alt=\"Open In Colab\"/></a>"
      ]
    },
    {
      "cell_type": "code",
      "execution_count": 1,
      "metadata": {
        "colab": {
          "base_uri": "https://localhost:8080/"
        },
        "id": "B1iyAJ0k9LxG",
        "outputId": "62e4637f-4123-4952-b6c9-566c06adcc17"
      },
      "outputs": [
        {
          "output_type": "stream",
          "name": "stdout",
          "text": [
            "Looking in indexes: https://pypi.org/simple, https://us-python.pkg.dev/colab-wheels/public/simple/\n",
            "Collecting signatory\n",
            "  Downloading signatory-1.2.6.1.9.0.tar.gz (62 kB)\n",
            "\u001b[K     |████████████████████████████████| 62 kB 1.1 MB/s \n",
            "\u001b[?25hBuilding wheels for collected packages: signatory\n",
            "  Building wheel for signatory (setup.py) ... \u001b[?25l\u001b[?25hdone\n",
            "  Created wheel for signatory: filename=signatory-1.2.6.1.9.0-cp37-cp37m-linux_x86_64.whl size=7554437 sha256=f9a01b2cde1c6dd69f069b034bd8ae5e735adce0e4f61ffb2393e101eea9505a\n",
            "  Stored in directory: /root/.cache/pip/wheels/12/ff/e5/ffe613433c810f7f82da6e0c55abd15f4cc04960f8137db53b\n",
            "Successfully built signatory\n",
            "Installing collected packages: signatory\n",
            "Successfully installed signatory-1.2.6.1.9.0\n",
            "Cloning into 'MasterThesisDemo'...\n",
            "remote: Enumerating objects: 187, done.\u001b[K\n",
            "remote: Counting objects: 100% (187/187), done.\u001b[K\n",
            "remote: Compressing objects: 100% (161/161), done.\u001b[K\n",
            "remote: Total 187 (delta 52), reused 130 (delta 20), pack-reused 0\u001b[K\n",
            "Receiving objects: 100% (187/187), 9.07 MiB | 17.43 MiB/s, done.\n",
            "Resolving deltas: 100% (52/52), done.\n",
            "Mounted at /content/drive\n"
          ]
        }
      ],
      "source": [
        "!pip install signatory\n",
        "!git clone https://github.com/emguzzi/MasterThesisDemo.git\n",
        "import sys\n",
        "sys.path.append('./MasterThesisDemo/PenDigits/')\n",
        "from RandomSignature import *\n",
        "import signatory\n",
        "import torch\n",
        "from sklearn.ensemble import RandomForestClassifier\n",
        "from google.colab import drive\n",
        "drive.mount(\"/content/drive\")\n",
        "import pickle\n",
        "import numpy as np\n",
        "from tqdm.auto import tqdm\n",
        "from scipy.special import expit"
      ]
    },
    {
      "cell_type": "code",
      "execution_count": 2,
      "metadata": {
        "id": "6TkR6oRH9pDN"
      },
      "outputs": [],
      "source": [
        "## load the preprocessed paths\n",
        "## data has to be stored on drive in a folder called SpeechCommands\n",
        "\n",
        "with open('/content/drive/MyDrive/SpeechCommands/paths_time.pkl','rb') as f:\n",
        "    paths = pickle.load(f)\n",
        "with open('/content/drive/MyDrive/SpeechCommands/y_train.pkl','rb') as f:\n",
        "    y_train = pickle.load(f)\n",
        "with open('/content/drive/MyDrive/SpeechCommands/y_test.pkl','rb') as f:\n",
        "    y_test = pickle.load(f)\n",
        "with open('/content/drive/MyDrive/SpeechCommands/y_validation.pkl','rb') as f:\n",
        "    y_validation = pickle.load(f)\n",
        "    \n",
        "paths_torch = torch.tensor(paths)\n",
        "paths_np = np.array(paths)"
      ]
    },
    {
      "cell_type": "code",
      "execution_count": 3,
      "metadata": {
        "id": "uxNzmOcL91yC",
        "outputId": "ab952229-28b6-4c8e-b556-854b505d818b",
        "colab": {
          "base_uri": "https://localhost:8080/"
        }
      },
      "outputs": [
        {
          "output_type": "stream",
          "name": "stdout",
          "text": [
            "Accuracy for the set of features considered: \n",
            "\n",
            "0.6431788079470199\n"
          ]
        }
      ],
      "source": [
        "## full truncated signature\n",
        "truncated_sig = signatory.signature(paths_torch,2)\n",
        "\n",
        "## consider the various level of the truncated signature separately\n",
        "truncated_sigN1 = truncated_sig[:,:11]\n",
        "truncated_sigN2 = truncated_sig[:,11:132]\n",
        "truncated_sigN3 = truncated_sig[:,132:]\n",
        "\n",
        "\n",
        "## subsample the features\n",
        "omit_rate = 0.90\n",
        "ind = np.random.choice(range(1463),replace = False,size = int(1463*(1-omit_rate)))\n",
        "truncated_sig_subsampled = truncated_sig[:,ind]\n",
        "\n",
        "## choose the features to train\n",
        "#features = truncated_sig\n",
        "features = truncated_sig_subsampled\n",
        "#features = truncated_sigN3\n",
        "#featrues = truncated_sigN2\n",
        "#features = truncated_sigN1\n",
        "\n",
        "##train and test\n",
        "features_train = features[:27864,:] \n",
        "features_test = features[27864:31639,:]\n",
        "\n",
        "clf = RandomForestClassifier(n_estimators = 1000, max_depth = 100)\n",
        "clf.fit(features_train,y_train)\n",
        "predictions = clf.predict(features_test)\n",
        "\n",
        "print('Accuracy for the set of features considered: \\n')\n",
        "print(np.mean(predictions == y_test))\n"
      ]
    },
    {
      "cell_type": "code",
      "source": [
        "## consider a mix of the features of the truncated signature and the randomized signature\n",
        "## compute randomized and truncated signature\n",
        "def sigmoid(x):\n",
        "    return 1/(1+np.exp(-x))\n",
        "\n",
        "def identity(x):\n",
        "    return x\n",
        "\n",
        "hparams = {\n",
        "'varA':1e-05, \n",
        "'mean':0,\n",
        "'res_size':132, \n",
        "'activation': identity\n",
        "}\n",
        "# generate vector fields\n",
        "[As,bs] = get_random_coeff(paths_np.shape[2],hparams)\n",
        "# compute signature\n",
        "rand_sig = compute_signature_vect(As,bs,paths_np,hparams)\n",
        "\n",
        "## subsample the features\n",
        "omit_rate = 0.90\n",
        "ind = np.random.choice(range(132),replace = False,size = int(132*(1-omit_rate)))\n",
        "rand_sig_subsampled = rand_sig[:,ind]\n",
        "\n",
        "## choose the features to train\n",
        "features = rand_sig\n",
        "#features = rand_sig_subsampled\n",
        "\n",
        "##train and test\n",
        "features_train = features[:27864,:] \n",
        "features_test = features[27864:31639,:]\n",
        "\n",
        "clf = RandomForestClassifier(n_estimators = 1000, max_depth = 100)\n",
        "clf.fit(features_train,y_train)\n",
        "predictions = clf.predict(features_test)\n",
        "\n",
        "print('Accuracy for the set of features considered: \\n')\n",
        "print(np.mean(predictions == y_test))\n"
      ],
      "metadata": {
        "id": "gNYSvFZwJCKk",
        "outputId": "173bf981-c0e7-4532-f209-57acb59e35d4",
        "colab": {
          "base_uri": "https://localhost:8080/",
          "height": 101,
          "referenced_widgets": [
            "cd49323a5f784a949dd39fd5cc1d94c0",
            "939a62e1826e4c4da8b7ad53cddfc464",
            "7e7f5bdedd3f423e8793a4d51c76e466",
            "94a4baa4f39b47139d0960274e6c69a0",
            "433e91afddb241609d9a1f729875df05",
            "3f483067cd5a4343a5fb5e0fa1e3f282",
            "ec0147034e6c434cb36a1c1a42f0dfb3",
            "343bb8a429854b15afc443dfa7c60e61",
            "5022238369054b7aac70593dbb16a361",
            "a3d8d86b174448fdb6e3d86e3756ba8a",
            "c915925670324f12bdddc23d37609c62"
          ]
        }
      },
      "execution_count": 7,
      "outputs": [
        {
          "output_type": "display_data",
          "data": {
            "text/plain": [
              "  0%|          | 0/320 [00:00<?, ?it/s]"
            ],
            "application/vnd.jupyter.widget-view+json": {
              "version_major": 2,
              "version_minor": 0,
              "model_id": "cd49323a5f784a949dd39fd5cc1d94c0"
            }
          },
          "metadata": {}
        },
        {
          "output_type": "stream",
          "name": "stdout",
          "text": [
            "Accuracy for the set of features considered: \n",
            "\n",
            "0.4521854304635762\n"
          ]
        }
      ]
    },
    {
      "cell_type": "code",
      "source": [
        "## consider a mix of randomized signature and truncated signature\n",
        "#truncated_sig_rate = 0.5\n",
        "#truncated_sig_rate_ind = np.random.choice(range(132),replace = False,size = int(132*truncated_sig_rate))\n",
        "#rand_sig_ind = int(132-truncated_sig_rate)\n",
        "#features = np.hstack([truncated_sig[:,truncated_sig_rate_ind],rand_sig[:,:rand_sig_ind]])\n",
        "\n",
        "## add randomized signature to the truncated signature\n",
        "features = np.hstack([truncated_sig,rand_sig])\n",
        "\n",
        "##train and test\n",
        "features_train = features[:27864,:] \n",
        "features_test = features[27864:31639,:]\n",
        "\n",
        "clf = RandomForestClassifier(n_estimators = 1000, max_depth = 100)\n",
        "clf.fit(features_train,y_train)\n",
        "predictions = clf.predict(features_test)\n",
        "\n",
        "print('Accuracy for the set of features considered: \\n')\n",
        "print(np.mean(predictions == y_test))"
      ],
      "metadata": {
        "id": "-09nhqsrSp3t",
        "colab": {
          "base_uri": "https://localhost:8080/"
        },
        "outputId": "95772c35-1173-4006-e375-a81c0cc900c0"
      },
      "execution_count": 10,
      "outputs": [
        {
          "output_type": "stream",
          "name": "stdout",
          "text": [
            "Accuracy for the set of features considered: \n",
            "\n",
            "0.7290066225165563\n"
          ]
        }
      ]
    }
  ],
  "metadata": {
    "colab": {
      "collapsed_sections": [],
      "name": "TruncatedSignatureTest.ipynb",
      "provenance": [],
      "authorship_tag": "ABX9TyOwHIWUDNVgFTdLmdINYs8J",
      "include_colab_link": true
    },
    "kernelspec": {
      "display_name": "Python 3",
      "name": "python3"
    },
    "language_info": {
      "name": "python"
    },
    "widgets": {
      "application/vnd.jupyter.widget-state+json": {
        "cd49323a5f784a949dd39fd5cc1d94c0": {
          "model_module": "@jupyter-widgets/controls",
          "model_name": "HBoxModel",
          "model_module_version": "1.5.0",
          "state": {
            "_dom_classes": [],
            "_model_module": "@jupyter-widgets/controls",
            "_model_module_version": "1.5.0",
            "_model_name": "HBoxModel",
            "_view_count": null,
            "_view_module": "@jupyter-widgets/controls",
            "_view_module_version": "1.5.0",
            "_view_name": "HBoxView",
            "box_style": "",
            "children": [
              "IPY_MODEL_939a62e1826e4c4da8b7ad53cddfc464",
              "IPY_MODEL_7e7f5bdedd3f423e8793a4d51c76e466",
              "IPY_MODEL_94a4baa4f39b47139d0960274e6c69a0"
            ],
            "layout": "IPY_MODEL_433e91afddb241609d9a1f729875df05"
          }
        },
        "939a62e1826e4c4da8b7ad53cddfc464": {
          "model_module": "@jupyter-widgets/controls",
          "model_name": "HTMLModel",
          "model_module_version": "1.5.0",
          "state": {
            "_dom_classes": [],
            "_model_module": "@jupyter-widgets/controls",
            "_model_module_version": "1.5.0",
            "_model_name": "HTMLModel",
            "_view_count": null,
            "_view_module": "@jupyter-widgets/controls",
            "_view_module_version": "1.5.0",
            "_view_name": "HTMLView",
            "description": "",
            "description_tooltip": null,
            "layout": "IPY_MODEL_3f483067cd5a4343a5fb5e0fa1e3f282",
            "placeholder": "​",
            "style": "IPY_MODEL_ec0147034e6c434cb36a1c1a42f0dfb3",
            "value": "100%"
          }
        },
        "7e7f5bdedd3f423e8793a4d51c76e466": {
          "model_module": "@jupyter-widgets/controls",
          "model_name": "FloatProgressModel",
          "model_module_version": "1.5.0",
          "state": {
            "_dom_classes": [],
            "_model_module": "@jupyter-widgets/controls",
            "_model_module_version": "1.5.0",
            "_model_name": "FloatProgressModel",
            "_view_count": null,
            "_view_module": "@jupyter-widgets/controls",
            "_view_module_version": "1.5.0",
            "_view_name": "ProgressView",
            "bar_style": "success",
            "description": "",
            "description_tooltip": null,
            "layout": "IPY_MODEL_343bb8a429854b15afc443dfa7c60e61",
            "max": 320,
            "min": 0,
            "orientation": "horizontal",
            "style": "IPY_MODEL_5022238369054b7aac70593dbb16a361",
            "value": 320
          }
        },
        "94a4baa4f39b47139d0960274e6c69a0": {
          "model_module": "@jupyter-widgets/controls",
          "model_name": "HTMLModel",
          "model_module_version": "1.5.0",
          "state": {
            "_dom_classes": [],
            "_model_module": "@jupyter-widgets/controls",
            "_model_module_version": "1.5.0",
            "_model_name": "HTMLModel",
            "_view_count": null,
            "_view_module": "@jupyter-widgets/controls",
            "_view_module_version": "1.5.0",
            "_view_name": "HTMLView",
            "description": "",
            "description_tooltip": null,
            "layout": "IPY_MODEL_a3d8d86b174448fdb6e3d86e3756ba8a",
            "placeholder": "​",
            "style": "IPY_MODEL_c915925670324f12bdddc23d37609c62",
            "value": " 320/320 [04:17&lt;00:00,  1.32it/s]"
          }
        },
        "433e91afddb241609d9a1f729875df05": {
          "model_module": "@jupyter-widgets/base",
          "model_name": "LayoutModel",
          "model_module_version": "1.2.0",
          "state": {
            "_model_module": "@jupyter-widgets/base",
            "_model_module_version": "1.2.0",
            "_model_name": "LayoutModel",
            "_view_count": null,
            "_view_module": "@jupyter-widgets/base",
            "_view_module_version": "1.2.0",
            "_view_name": "LayoutView",
            "align_content": null,
            "align_items": null,
            "align_self": null,
            "border": null,
            "bottom": null,
            "display": null,
            "flex": null,
            "flex_flow": null,
            "grid_area": null,
            "grid_auto_columns": null,
            "grid_auto_flow": null,
            "grid_auto_rows": null,
            "grid_column": null,
            "grid_gap": null,
            "grid_row": null,
            "grid_template_areas": null,
            "grid_template_columns": null,
            "grid_template_rows": null,
            "height": null,
            "justify_content": null,
            "justify_items": null,
            "left": null,
            "margin": null,
            "max_height": null,
            "max_width": null,
            "min_height": null,
            "min_width": null,
            "object_fit": null,
            "object_position": null,
            "order": null,
            "overflow": null,
            "overflow_x": null,
            "overflow_y": null,
            "padding": null,
            "right": null,
            "top": null,
            "visibility": null,
            "width": null
          }
        },
        "3f483067cd5a4343a5fb5e0fa1e3f282": {
          "model_module": "@jupyter-widgets/base",
          "model_name": "LayoutModel",
          "model_module_version": "1.2.0",
          "state": {
            "_model_module": "@jupyter-widgets/base",
            "_model_module_version": "1.2.0",
            "_model_name": "LayoutModel",
            "_view_count": null,
            "_view_module": "@jupyter-widgets/base",
            "_view_module_version": "1.2.0",
            "_view_name": "LayoutView",
            "align_content": null,
            "align_items": null,
            "align_self": null,
            "border": null,
            "bottom": null,
            "display": null,
            "flex": null,
            "flex_flow": null,
            "grid_area": null,
            "grid_auto_columns": null,
            "grid_auto_flow": null,
            "grid_auto_rows": null,
            "grid_column": null,
            "grid_gap": null,
            "grid_row": null,
            "grid_template_areas": null,
            "grid_template_columns": null,
            "grid_template_rows": null,
            "height": null,
            "justify_content": null,
            "justify_items": null,
            "left": null,
            "margin": null,
            "max_height": null,
            "max_width": null,
            "min_height": null,
            "min_width": null,
            "object_fit": null,
            "object_position": null,
            "order": null,
            "overflow": null,
            "overflow_x": null,
            "overflow_y": null,
            "padding": null,
            "right": null,
            "top": null,
            "visibility": null,
            "width": null
          }
        },
        "ec0147034e6c434cb36a1c1a42f0dfb3": {
          "model_module": "@jupyter-widgets/controls",
          "model_name": "DescriptionStyleModel",
          "model_module_version": "1.5.0",
          "state": {
            "_model_module": "@jupyter-widgets/controls",
            "_model_module_version": "1.5.0",
            "_model_name": "DescriptionStyleModel",
            "_view_count": null,
            "_view_module": "@jupyter-widgets/base",
            "_view_module_version": "1.2.0",
            "_view_name": "StyleView",
            "description_width": ""
          }
        },
        "343bb8a429854b15afc443dfa7c60e61": {
          "model_module": "@jupyter-widgets/base",
          "model_name": "LayoutModel",
          "model_module_version": "1.2.0",
          "state": {
            "_model_module": "@jupyter-widgets/base",
            "_model_module_version": "1.2.0",
            "_model_name": "LayoutModel",
            "_view_count": null,
            "_view_module": "@jupyter-widgets/base",
            "_view_module_version": "1.2.0",
            "_view_name": "LayoutView",
            "align_content": null,
            "align_items": null,
            "align_self": null,
            "border": null,
            "bottom": null,
            "display": null,
            "flex": null,
            "flex_flow": null,
            "grid_area": null,
            "grid_auto_columns": null,
            "grid_auto_flow": null,
            "grid_auto_rows": null,
            "grid_column": null,
            "grid_gap": null,
            "grid_row": null,
            "grid_template_areas": null,
            "grid_template_columns": null,
            "grid_template_rows": null,
            "height": null,
            "justify_content": null,
            "justify_items": null,
            "left": null,
            "margin": null,
            "max_height": null,
            "max_width": null,
            "min_height": null,
            "min_width": null,
            "object_fit": null,
            "object_position": null,
            "order": null,
            "overflow": null,
            "overflow_x": null,
            "overflow_y": null,
            "padding": null,
            "right": null,
            "top": null,
            "visibility": null,
            "width": null
          }
        },
        "5022238369054b7aac70593dbb16a361": {
          "model_module": "@jupyter-widgets/controls",
          "model_name": "ProgressStyleModel",
          "model_module_version": "1.5.0",
          "state": {
            "_model_module": "@jupyter-widgets/controls",
            "_model_module_version": "1.5.0",
            "_model_name": "ProgressStyleModel",
            "_view_count": null,
            "_view_module": "@jupyter-widgets/base",
            "_view_module_version": "1.2.0",
            "_view_name": "StyleView",
            "bar_color": null,
            "description_width": ""
          }
        },
        "a3d8d86b174448fdb6e3d86e3756ba8a": {
          "model_module": "@jupyter-widgets/base",
          "model_name": "LayoutModel",
          "model_module_version": "1.2.0",
          "state": {
            "_model_module": "@jupyter-widgets/base",
            "_model_module_version": "1.2.0",
            "_model_name": "LayoutModel",
            "_view_count": null,
            "_view_module": "@jupyter-widgets/base",
            "_view_module_version": "1.2.0",
            "_view_name": "LayoutView",
            "align_content": null,
            "align_items": null,
            "align_self": null,
            "border": null,
            "bottom": null,
            "display": null,
            "flex": null,
            "flex_flow": null,
            "grid_area": null,
            "grid_auto_columns": null,
            "grid_auto_flow": null,
            "grid_auto_rows": null,
            "grid_column": null,
            "grid_gap": null,
            "grid_row": null,
            "grid_template_areas": null,
            "grid_template_columns": null,
            "grid_template_rows": null,
            "height": null,
            "justify_content": null,
            "justify_items": null,
            "left": null,
            "margin": null,
            "max_height": null,
            "max_width": null,
            "min_height": null,
            "min_width": null,
            "object_fit": null,
            "object_position": null,
            "order": null,
            "overflow": null,
            "overflow_x": null,
            "overflow_y": null,
            "padding": null,
            "right": null,
            "top": null,
            "visibility": null,
            "width": null
          }
        },
        "c915925670324f12bdddc23d37609c62": {
          "model_module": "@jupyter-widgets/controls",
          "model_name": "DescriptionStyleModel",
          "model_module_version": "1.5.0",
          "state": {
            "_model_module": "@jupyter-widgets/controls",
            "_model_module_version": "1.5.0",
            "_model_name": "DescriptionStyleModel",
            "_view_count": null,
            "_view_module": "@jupyter-widgets/base",
            "_view_module_version": "1.2.0",
            "_view_name": "StyleView",
            "description_width": ""
          }
        }
      }
    }
  },
  "nbformat": 4,
  "nbformat_minor": 0
}