{
  "cells": [
    {
      "cell_type": "markdown",
      "metadata": {
        "id": "view-in-github",
        "colab_type": "text"
      },
      "source": [
        "<a href=\"https://colab.research.google.com/github/emguzzi/MasterThesisDemo/blob/main/SpeechCommands/TruncatedSignatureTest.ipynb\" target=\"_parent\"><img src=\"https://colab.research.google.com/assets/colab-badge.svg\" alt=\"Open In Colab\"/></a>"
      ]
    },
    {
      "cell_type": "code",
      "execution_count": null,
      "metadata": {
        "colab": {
          "base_uri": "https://localhost:8080/"
        },
        "id": "B1iyAJ0k9LxG",
        "outputId": "7f253ae8-b213-4b42-f445-83e2fb7a714e"
      },
      "outputs": [
        {
          "output_type": "stream",
          "name": "stdout",
          "text": [
            "Looking in indexes: https://pypi.org/simple, https://us-python.pkg.dev/colab-wheels/public/simple/\n",
            "Collecting signatory\n",
            "  Downloading signatory-1.2.6.1.9.0.tar.gz (62 kB)\n",
            "\u001b[K     |████████████████████████████████| 62 kB 971 kB/s \n",
            "\u001b[?25hBuilding wheels for collected packages: signatory\n",
            "  Building wheel for signatory (setup.py) ... \u001b[?25l\u001b[?25hdone\n",
            "  Created wheel for signatory: filename=signatory-1.2.6.1.9.0-cp37-cp37m-linux_x86_64.whl size=7554304 sha256=2c55c8206c1c73243d79487b669a1094c58d52bd76bbeccc9acc6bc9e7d75162\n",
            "  Stored in directory: /root/.cache/pip/wheels/12/ff/e5/ffe613433c810f7f82da6e0c55abd15f4cc04960f8137db53b\n",
            "Successfully built signatory\n",
            "Installing collected packages: signatory\n",
            "Successfully installed signatory-1.2.6.1.9.0\n",
            "Mounted at /content/drive\n"
          ]
        }
      ],
      "source": [
        "!pip install signatory\n",
        "import signatory\n",
        "import torch\n",
        "from sklearn.ensemble import RandomForestClassifier\n",
        "from google.colab import drive\n",
        "drive.mount(\"/content/drive\")\n",
        "import pickle\n",
        "import numpy as np\n",
        "from tqdm.auto import tqdm\n",
        "from scipy.special import expit"
      ]
    },
    {
      "cell_type": "code",
      "source": [
        "## functions for computing Signature\n",
        "def get_random_coeff(d,hparams):\n",
        "# hyperparam_dict: contains mean and var of normal \n",
        "# distribution that we want to sample as well as dimension\n",
        "# of randomized signature.\n",
        "# d: dimension of the control, and therefore number \n",
        "# of different matrix,vector pairs of coeff to be generated\n",
        "# output: tuple(As,bs), with As np array (d,res_size,res_size)\n",
        "# and bs np array (d,res_size). As[i,:,:] and bs[i,:] \n",
        "# are the i-th components of the vector field generating the \n",
        "# rand signature.\n",
        " \n",
        "    random_projection = []\n",
        "    random_bias = []\n",
        "    for i in range(d):\n",
        "\n",
        "\n",
        "        projection = np.random.normal(hparams['mean'],np.sqrt(hparams['varA']),\n",
        "            (hparams['res_size'], hparams['res_size']))\n",
        "        \n",
        "        norm = np.linalg.norm(projection, 2)\n",
        "        projection = projection# / norm * 0.99\n",
        "        random_projection.append(projection)\n",
        "\n",
        "        random_bias.append(np.random.normal(hparams['mean'], np.sqrt(hparams['varA']), size=hparams['res_size']))\n",
        "\n",
        "    return np.array(random_projection), np.array(random_bias)\n",
        "\n",
        "def compute_signature_vect(As,bs,paths,hparams):\n",
        "#given coeffs As,bs as in get_random_coeff, compute\n",
        "#the signature for the paths saved as (batch_dim,len,channels)    \n",
        "#using the values specified in hparams    \n",
        "    dX = np.diff(paths, axis = 1)\n",
        "    Sig = np.ones((paths.shape[0],As.shape[1]))\n",
        "    for i in tqdm(range(dX.shape[1])):\n",
        "        #Einstein notation where b: batch_index, i: index of path coordinate, j: index of res_dim, k: row of the matrix A\n",
        "        temp = np.einsum('ijk,bk->bij',As,Sig,optimize = True)\n",
        "        temp = hparams['activation'](temp+bs)\n",
        "        #temp = expit(temp+bs)\n",
        "        Sig += np.einsum('bij,bi -> bj',temp,dX[:,i,:],optimize = True)    \n",
        "    return Sig"
      ],
      "metadata": {
        "id": "LBlg4KmPoPI3"
      },
      "execution_count": null,
      "outputs": []
    },
    {
      "cell_type": "code",
      "execution_count": null,
      "metadata": {
        "id": "6TkR6oRH9pDN"
      },
      "outputs": [],
      "source": [
        "## load the preprocessed paths\n",
        "\n",
        "with open('/content/drive/MyDrive/SpeechCommands/paths_time.pkl','rb') as f:\n",
        "    paths = pickle.load(f)\n",
        "with open('/content/drive/MyDrive/SpeechCommands/y_train.pkl','rb') as f:\n",
        "    y_train = pickle.load(f)\n",
        "with open('/content/drive/MyDrive/SpeechCommands/y_test.pkl','rb') as f:\n",
        "    y_test = pickle.load(f)\n",
        "with open('/content/drive/MyDrive/SpeechCommands/y_validation.pkl','rb') as f:\n",
        "    y_validation = pickle.load(f)\n",
        "    \n",
        "paths_torch = torch.tensor(paths)\n",
        "paths_np = np.array(paths)"
      ]
    },
    {
      "cell_type": "code",
      "execution_count": null,
      "metadata": {
        "id": "uxNzmOcL91yC"
      },
      "outputs": [],
      "source": [
        "truncated_sig = signatory.signature(paths_torch,3)\n",
        "\n",
        "#remove terms of truncated signature of level 1\n",
        "truncated_sig_subsampled = truncated_sig[:,132:]\n",
        "\n",
        "#subsample the features\n",
        "#omit_rate = 0.95\n",
        "#ind = np.random.choice(range(1331),replace = False,size = int(1331*(1-omit_rate)))\n",
        "#truncated_sig_subsampled = truncated_sig_subsampled[:,ind]\n",
        "\n",
        "#train and test\n",
        "truncated_sig_train = truncated_sig[:27864,:] \n",
        "truncated_sig_test = truncated_sig[27864:31639,:]\n",
        "\n",
        "truncated_sig_train_subsampled = truncated_sig_subsampled[:27864,:] \n",
        "truncated_sig_test_subsampled = truncated_sig_subsampled[27864:31639,:]\n"
      ]
    },
    {
      "cell_type": "code",
      "execution_count": null,
      "metadata": {
        "colab": {
          "base_uri": "https://localhost:8080/"
        },
        "id": "yg64nNI_-r8Z",
        "outputId": "000fc45f-241b-4624-eec8-bad5de287a35"
      },
      "outputs": [
        {
          "output_type": "stream",
          "name": "stdout",
          "text": [
            "Accurcay for the subsampled truncated signature: \n",
            "0.7298013245033113\n"
          ]
        }
      ],
      "source": [
        "clf = RandomForestClassifier(n_estimators = 1000, max_depth = 100)\n",
        "\n",
        "#clf.fit(truncated_sig_train,y_train)\n",
        "#truncated_pred = clf.predict(truncated_sig_test)\n",
        "\n",
        "clf.fit(truncated_sig_train_subsampled,y_train)\n",
        "truncated_pred_subsampled = clf.predict(truncated_sig_test_subsampled)\n",
        "\n",
        "#print('Accurcay for the truncated signature: ')\n",
        "#print(np.mean(truncated_pred == y_test))\n",
        "print('Accurcay for the subsampled truncated signature: ')\n",
        "print(np.mean(truncated_pred_subsampled == y_test))\n"
      ]
    },
    {
      "cell_type": "code",
      "execution_count": null,
      "metadata": {
        "colab": {
          "base_uri": "https://localhost:8080/"
        },
        "id": "zpuoLJ5hAkTY",
        "outputId": "bce11c25-eebe-46cc-bc3f-5c034bfca8df"
      },
      "outputs": [
        {
          "output_type": "stream",
          "name": "stdout",
          "text": [
            "torch.Size([34975, 1463])\n",
            "torch.Size([34975, 66])\n"
          ]
        }
      ],
      "source": [
        "print(truncated_sig.shape)\n",
        "print(truncated_sig_subsampled.shape)"
      ]
    },
    {
      "cell_type": "code",
      "source": [
        "## consider a mix of the features of the truncated signature and the randomized signature\n",
        "## compute randomized and truncated signature\n",
        "def sigmoid(x):\n",
        "    return 1/(1+np.exp(-x))\n",
        "def sigmoid2(x):\n",
        "  return expit(x)\n",
        "\n",
        "hparams = {\n",
        "'varA':0.001, # best varA around 0.0005 - 0.001\n",
        "'mean':0,\n",
        "'res_size':300, # 132 for n= 2, 1464 for n = 3\n",
        "'activation': sigmoid2\n",
        "}\n",
        "# generate vector fields\n",
        "[As,bs] = get_random_coeff(paths_np.shape[2],hparams)\n",
        "# compute signature\n",
        "rand_sig = compute_signature_vect(As,bs,paths_np,hparams)\n",
        "\n",
        "truncated_sig = signatory.signature(paths_torch,2).numpy()\n",
        "\n",
        "joined_features = np.hstack([truncated_sig,rand_sig])\n",
        "joined_features_train = joined_features[:27864,:] \n",
        "joined_features_test = joined_features[27864:31639,:]\n",
        "# subsample the truncated signature and then add elements of the randomized signature\n",
        "# to keep the number of features constant\n",
        "truncated_sig_rate = 0.3\n",
        "ind = np.random.choice(range(300),replace = False,size = int(300*truncated_sig_rate))\n",
        "truncated_sig_subsampled = truncated_sig[:,ind]\n",
        "\n",
        "number_rsig = 300 - int(300*(truncated_sig_rate))\n",
        "randomized_sig_subsampled = rand_sig[:,:number_rsig]\n",
        "features = np.hstack([truncated_sig_subsampled,randomized_sig_subsampled])\n",
        "\n",
        "## train and evaluate\n",
        "features_train = features[:27864,:] \n",
        "features_test = features[27864:31639,:]\n",
        "\n",
        "clf = RandomForestClassifier(n_estimators = 1000, max_depth = 100)\n",
        "#clf.fit(features_train,y_train)\n",
        "#merged_pred = clf.predict(features_test)\n",
        "\n",
        "clf.fit(joined_features_train,y_train)\n",
        "joined_pred = clf.predict(joined_features_test)\n",
        "\n",
        "print('Accurcay for the subsampled truncated signature: ')\n",
        "#print(np.mean(merged_pred == y_test))\n",
        "print('Accuracy for joined truncated and randomized signature:')\n",
        "print(np.mean(joined_pred == y_test))\n"
      ],
      "metadata": {
        "id": "-09nhqsrSp3t",
        "colab": {
          "base_uri": "https://localhost:8080/",
          "height": 269,
          "referenced_widgets": [
            "f4617b4b59cf40deada190b47e54eb74",
            "f23835ab5b3149788ec5e8ec52fd11dc",
            "904cce8518364ebc95c0c20fccedd955",
            "3fcfd721036347e9be632eb531694725",
            "e85dc7778c6849d7a71650c0d2632794",
            "1374085c1ca542859a1c04f0823f4dab",
            "233dc86b077a40ecab1a1fe1e17dae1f",
            "773d424d1b1c4263bc89ded0949cf514",
            "5a51ab3d974b492b89ad67e2d186f903",
            "c61dd49e3d8349fbbcbb39d0e7e69837",
            "aedce3bcfb4a41328052efc00d02de43"
          ]
        },
        "outputId": "e42eec48-152b-432f-ebd4-8a286f15d723"
      },
      "execution_count": null,
      "outputs": [
        {
          "output_type": "display_data",
          "data": {
            "text/plain": [
              "  0%|          | 0/320 [00:00<?, ?it/s]"
            ],
            "application/vnd.jupyter.widget-view+json": {
              "version_major": 2,
              "version_minor": 0,
              "model_id": "f4617b4b59cf40deada190b47e54eb74"
            }
          },
          "metadata": {}
        },
        {
          "output_type": "error",
          "ename": "IndexError",
          "evalue": "ignored",
          "traceback": [
            "\u001b[0;31m---------------------------------------------------------------------------\u001b[0m",
            "\u001b[0;31mIndexError\u001b[0m                                Traceback (most recent call last)",
            "\u001b[0;32m<ipython-input-5-c03e7f84dd55>\u001b[0m in \u001b[0;36m<module>\u001b[0;34m()\u001b[0m\n\u001b[1;32m     26\u001b[0m \u001b[0mtruncated_sig_rate\u001b[0m \u001b[0;34m=\u001b[0m \u001b[0;36m0.3\u001b[0m\u001b[0;34m\u001b[0m\u001b[0;34m\u001b[0m\u001b[0m\n\u001b[1;32m     27\u001b[0m \u001b[0mind\u001b[0m \u001b[0;34m=\u001b[0m \u001b[0mnp\u001b[0m\u001b[0;34m.\u001b[0m\u001b[0mrandom\u001b[0m\u001b[0;34m.\u001b[0m\u001b[0mchoice\u001b[0m\u001b[0;34m(\u001b[0m\u001b[0mrange\u001b[0m\u001b[0;34m(\u001b[0m\u001b[0;36m300\u001b[0m\u001b[0;34m)\u001b[0m\u001b[0;34m,\u001b[0m\u001b[0mreplace\u001b[0m \u001b[0;34m=\u001b[0m \u001b[0;32mFalse\u001b[0m\u001b[0;34m,\u001b[0m\u001b[0msize\u001b[0m \u001b[0;34m=\u001b[0m \u001b[0mint\u001b[0m\u001b[0;34m(\u001b[0m\u001b[0;36m300\u001b[0m\u001b[0;34m*\u001b[0m\u001b[0mtruncated_sig_rate\u001b[0m\u001b[0;34m)\u001b[0m\u001b[0;34m)\u001b[0m\u001b[0;34m\u001b[0m\u001b[0;34m\u001b[0m\u001b[0m\n\u001b[0;32m---> 28\u001b[0;31m \u001b[0mtruncated_sig_subsampled\u001b[0m \u001b[0;34m=\u001b[0m \u001b[0mtruncated_sig\u001b[0m\u001b[0;34m[\u001b[0m\u001b[0;34m:\u001b[0m\u001b[0;34m,\u001b[0m\u001b[0mind\u001b[0m\u001b[0;34m]\u001b[0m\u001b[0;34m\u001b[0m\u001b[0;34m\u001b[0m\u001b[0m\n\u001b[0m\u001b[1;32m     29\u001b[0m \u001b[0;34m\u001b[0m\u001b[0m\n\u001b[1;32m     30\u001b[0m \u001b[0mnumber_rsig\u001b[0m \u001b[0;34m=\u001b[0m \u001b[0;36m300\u001b[0m \u001b[0;34m-\u001b[0m \u001b[0mint\u001b[0m\u001b[0;34m(\u001b[0m\u001b[0;36m300\u001b[0m\u001b[0;34m*\u001b[0m\u001b[0;34m(\u001b[0m\u001b[0mtruncated_sig_rate\u001b[0m\u001b[0;34m)\u001b[0m\u001b[0;34m)\u001b[0m\u001b[0;34m\u001b[0m\u001b[0;34m\u001b[0m\u001b[0m\n",
            "\u001b[0;31mIndexError\u001b[0m: index 186 is out of bounds for axis 1 with size 132"
          ]
        }
      ]
    },
    {
      "cell_type": "code",
      "source": [
        "print(features_test.shape)"
      ],
      "metadata": {
        "colab": {
          "base_uri": "https://localhost:8080/"
        },
        "id": "TNfinDsYVOzX",
        "outputId": "658166a0-18e9-4099-83e6-b8197a934b7e"
      },
      "execution_count": null,
      "outputs": [
        {
          "output_type": "stream",
          "name": "stdout",
          "text": [
            "(3775, 132)\n"
          ]
        }
      ]
    }
  ],
  "metadata": {
    "colab": {
      "collapsed_sections": [],
      "name": "TruncatedSignatureTest.ipynb",
      "provenance": [],
      "authorship_tag": "ABX9TyPwlW/f6QTTgBvM+vfzjamb",
      "include_colab_link": true
    },
    "kernelspec": {
      "display_name": "Python 3",
      "name": "python3"
    },
    "language_info": {
      "name": "python"
    },
    "widgets": {
      "application/vnd.jupyter.widget-state+json": {
        "f4617b4b59cf40deada190b47e54eb74": {
          "model_module": "@jupyter-widgets/controls",
          "model_name": "HBoxModel",
          "model_module_version": "1.5.0",
          "state": {
            "_dom_classes": [],
            "_model_module": "@jupyter-widgets/controls",
            "_model_module_version": "1.5.0",
            "_model_name": "HBoxModel",
            "_view_count": null,
            "_view_module": "@jupyter-widgets/controls",
            "_view_module_version": "1.5.0",
            "_view_name": "HBoxView",
            "box_style": "",
            "children": [
              "IPY_MODEL_f23835ab5b3149788ec5e8ec52fd11dc",
              "IPY_MODEL_904cce8518364ebc95c0c20fccedd955",
              "IPY_MODEL_3fcfd721036347e9be632eb531694725"
            ],
            "layout": "IPY_MODEL_e85dc7778c6849d7a71650c0d2632794"
          }
        },
        "f23835ab5b3149788ec5e8ec52fd11dc": {
          "model_module": "@jupyter-widgets/controls",
          "model_name": "HTMLModel",
          "model_module_version": "1.5.0",
          "state": {
            "_dom_classes": [],
            "_model_module": "@jupyter-widgets/controls",
            "_model_module_version": "1.5.0",
            "_model_name": "HTMLModel",
            "_view_count": null,
            "_view_module": "@jupyter-widgets/controls",
            "_view_module_version": "1.5.0",
            "_view_name": "HTMLView",
            "description": "",
            "description_tooltip": null,
            "layout": "IPY_MODEL_1374085c1ca542859a1c04f0823f4dab",
            "placeholder": "​",
            "style": "IPY_MODEL_233dc86b077a40ecab1a1fe1e17dae1f",
            "value": "100%"
          }
        },
        "904cce8518364ebc95c0c20fccedd955": {
          "model_module": "@jupyter-widgets/controls",
          "model_name": "FloatProgressModel",
          "model_module_version": "1.5.0",
          "state": {
            "_dom_classes": [],
            "_model_module": "@jupyter-widgets/controls",
            "_model_module_version": "1.5.0",
            "_model_name": "FloatProgressModel",
            "_view_count": null,
            "_view_module": "@jupyter-widgets/controls",
            "_view_module_version": "1.5.0",
            "_view_name": "ProgressView",
            "bar_style": "success",
            "description": "",
            "description_tooltip": null,
            "layout": "IPY_MODEL_773d424d1b1c4263bc89ded0949cf514",
            "max": 320,
            "min": 0,
            "orientation": "horizontal",
            "style": "IPY_MODEL_5a51ab3d974b492b89ad67e2d186f903",
            "value": 320
          }
        },
        "3fcfd721036347e9be632eb531694725": {
          "model_module": "@jupyter-widgets/controls",
          "model_name": "HTMLModel",
          "model_module_version": "1.5.0",
          "state": {
            "_dom_classes": [],
            "_model_module": "@jupyter-widgets/controls",
            "_model_module_version": "1.5.0",
            "_model_name": "HTMLModel",
            "_view_count": null,
            "_view_module": "@jupyter-widgets/controls",
            "_view_module_version": "1.5.0",
            "_view_name": "HTMLView",
            "description": "",
            "description_tooltip": null,
            "layout": "IPY_MODEL_c61dd49e3d8349fbbcbb39d0e7e69837",
            "placeholder": "​",
            "style": "IPY_MODEL_aedce3bcfb4a41328052efc00d02de43",
            "value": " 320/320 [28:34&lt;00:00,  5.20s/it]"
          }
        },
        "e85dc7778c6849d7a71650c0d2632794": {
          "model_module": "@jupyter-widgets/base",
          "model_name": "LayoutModel",
          "model_module_version": "1.2.0",
          "state": {
            "_model_module": "@jupyter-widgets/base",
            "_model_module_version": "1.2.0",
            "_model_name": "LayoutModel",
            "_view_count": null,
            "_view_module": "@jupyter-widgets/base",
            "_view_module_version": "1.2.0",
            "_view_name": "LayoutView",
            "align_content": null,
            "align_items": null,
            "align_self": null,
            "border": null,
            "bottom": null,
            "display": null,
            "flex": null,
            "flex_flow": null,
            "grid_area": null,
            "grid_auto_columns": null,
            "grid_auto_flow": null,
            "grid_auto_rows": null,
            "grid_column": null,
            "grid_gap": null,
            "grid_row": null,
            "grid_template_areas": null,
            "grid_template_columns": null,
            "grid_template_rows": null,
            "height": null,
            "justify_content": null,
            "justify_items": null,
            "left": null,
            "margin": null,
            "max_height": null,
            "max_width": null,
            "min_height": null,
            "min_width": null,
            "object_fit": null,
            "object_position": null,
            "order": null,
            "overflow": null,
            "overflow_x": null,
            "overflow_y": null,
            "padding": null,
            "right": null,
            "top": null,
            "visibility": null,
            "width": null
          }
        },
        "1374085c1ca542859a1c04f0823f4dab": {
          "model_module": "@jupyter-widgets/base",
          "model_name": "LayoutModel",
          "model_module_version": "1.2.0",
          "state": {
            "_model_module": "@jupyter-widgets/base",
            "_model_module_version": "1.2.0",
            "_model_name": "LayoutModel",
            "_view_count": null,
            "_view_module": "@jupyter-widgets/base",
            "_view_module_version": "1.2.0",
            "_view_name": "LayoutView",
            "align_content": null,
            "align_items": null,
            "align_self": null,
            "border": null,
            "bottom": null,
            "display": null,
            "flex": null,
            "flex_flow": null,
            "grid_area": null,
            "grid_auto_columns": null,
            "grid_auto_flow": null,
            "grid_auto_rows": null,
            "grid_column": null,
            "grid_gap": null,
            "grid_row": null,
            "grid_template_areas": null,
            "grid_template_columns": null,
            "grid_template_rows": null,
            "height": null,
            "justify_content": null,
            "justify_items": null,
            "left": null,
            "margin": null,
            "max_height": null,
            "max_width": null,
            "min_height": null,
            "min_width": null,
            "object_fit": null,
            "object_position": null,
            "order": null,
            "overflow": null,
            "overflow_x": null,
            "overflow_y": null,
            "padding": null,
            "right": null,
            "top": null,
            "visibility": null,
            "width": null
          }
        },
        "233dc86b077a40ecab1a1fe1e17dae1f": {
          "model_module": "@jupyter-widgets/controls",
          "model_name": "DescriptionStyleModel",
          "model_module_version": "1.5.0",
          "state": {
            "_model_module": "@jupyter-widgets/controls",
            "_model_module_version": "1.5.0",
            "_model_name": "DescriptionStyleModel",
            "_view_count": null,
            "_view_module": "@jupyter-widgets/base",
            "_view_module_version": "1.2.0",
            "_view_name": "StyleView",
            "description_width": ""
          }
        },
        "773d424d1b1c4263bc89ded0949cf514": {
          "model_module": "@jupyter-widgets/base",
          "model_name": "LayoutModel",
          "model_module_version": "1.2.0",
          "state": {
            "_model_module": "@jupyter-widgets/base",
            "_model_module_version": "1.2.0",
            "_model_name": "LayoutModel",
            "_view_count": null,
            "_view_module": "@jupyter-widgets/base",
            "_view_module_version": "1.2.0",
            "_view_name": "LayoutView",
            "align_content": null,
            "align_items": null,
            "align_self": null,
            "border": null,
            "bottom": null,
            "display": null,
            "flex": null,
            "flex_flow": null,
            "grid_area": null,
            "grid_auto_columns": null,
            "grid_auto_flow": null,
            "grid_auto_rows": null,
            "grid_column": null,
            "grid_gap": null,
            "grid_row": null,
            "grid_template_areas": null,
            "grid_template_columns": null,
            "grid_template_rows": null,
            "height": null,
            "justify_content": null,
            "justify_items": null,
            "left": null,
            "margin": null,
            "max_height": null,
            "max_width": null,
            "min_height": null,
            "min_width": null,
            "object_fit": null,
            "object_position": null,
            "order": null,
            "overflow": null,
            "overflow_x": null,
            "overflow_y": null,
            "padding": null,
            "right": null,
            "top": null,
            "visibility": null,
            "width": null
          }
        },
        "5a51ab3d974b492b89ad67e2d186f903": {
          "model_module": "@jupyter-widgets/controls",
          "model_name": "ProgressStyleModel",
          "model_module_version": "1.5.0",
          "state": {
            "_model_module": "@jupyter-widgets/controls",
            "_model_module_version": "1.5.0",
            "_model_name": "ProgressStyleModel",
            "_view_count": null,
            "_view_module": "@jupyter-widgets/base",
            "_view_module_version": "1.2.0",
            "_view_name": "StyleView",
            "bar_color": null,
            "description_width": ""
          }
        },
        "c61dd49e3d8349fbbcbb39d0e7e69837": {
          "model_module": "@jupyter-widgets/base",
          "model_name": "LayoutModel",
          "model_module_version": "1.2.0",
          "state": {
            "_model_module": "@jupyter-widgets/base",
            "_model_module_version": "1.2.0",
            "_model_name": "LayoutModel",
            "_view_count": null,
            "_view_module": "@jupyter-widgets/base",
            "_view_module_version": "1.2.0",
            "_view_name": "LayoutView",
            "align_content": null,
            "align_items": null,
            "align_self": null,
            "border": null,
            "bottom": null,
            "display": null,
            "flex": null,
            "flex_flow": null,
            "grid_area": null,
            "grid_auto_columns": null,
            "grid_auto_flow": null,
            "grid_auto_rows": null,
            "grid_column": null,
            "grid_gap": null,
            "grid_row": null,
            "grid_template_areas": null,
            "grid_template_columns": null,
            "grid_template_rows": null,
            "height": null,
            "justify_content": null,
            "justify_items": null,
            "left": null,
            "margin": null,
            "max_height": null,
            "max_width": null,
            "min_height": null,
            "min_width": null,
            "object_fit": null,
            "object_position": null,
            "order": null,
            "overflow": null,
            "overflow_x": null,
            "overflow_y": null,
            "padding": null,
            "right": null,
            "top": null,
            "visibility": null,
            "width": null
          }
        },
        "aedce3bcfb4a41328052efc00d02de43": {
          "model_module": "@jupyter-widgets/controls",
          "model_name": "DescriptionStyleModel",
          "model_module_version": "1.5.0",
          "state": {
            "_model_module": "@jupyter-widgets/controls",
            "_model_module_version": "1.5.0",
            "_model_name": "DescriptionStyleModel",
            "_view_count": null,
            "_view_module": "@jupyter-widgets/base",
            "_view_module_version": "1.2.0",
            "_view_name": "StyleView",
            "description_width": ""
          }
        }
      }
    }
  },
  "nbformat": 4,
  "nbformat_minor": 0
}